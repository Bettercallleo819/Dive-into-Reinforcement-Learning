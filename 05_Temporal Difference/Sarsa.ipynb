{
 "cells": [
  {
   "cell_type": "code",
   "execution_count": 2,
   "metadata": {},
   "outputs": [],
   "source": [
    "from tqdm import tqdm\n",
    "import numpy as np\n",
    "import matplotlib.pyplot as plt\n",
    "\n"
   ]
  },
  {
   "cell_type": "code",
   "execution_count": 3,
   "metadata": {},
   "outputs": [],
   "source": [
    "class CliffWalkingEnv:\n",
    "    def __init__(self, ncol, nrow):\n",
    "        self.nrow = nrow\n",
    "        self.ncol = ncol\n",
    "        self.x = 0  # 记录当前智能体位置的横坐标\n",
    "        self.y = self.nrow - 1  # 记录当前智能体位置的纵坐标\n",
    "\n",
    "    def step(self, action):  # 外部调用这个函数来改变当前位置\n",
    "        # 4种动作, change[0]:上, change[1]:下, change[2]:左, change[3]:右。坐标系原点(0,0)\n",
    "        # 定义在左上角\n",
    "        change = [[0, -1], [0, 1], [-1, 0], [1, 0]]\n",
    "        self.x = min(self.ncol - 1, max(0, self.x + change[action][0]))\n",
    "        self.y = min(self.nrow - 1, max(0, self.y + change[action][1]))\n",
    "        next_state = self.y * self.ncol + self.x\n",
    "        reward = -1\n",
    "        done = False\n",
    "        if self.y == self.nrow - 1 and self.x > 0:  # 下一个位置在悬崖或者目标\n",
    "            done = True\n",
    "            if self.x != self.ncol - 1:\n",
    "                reward = -100\n",
    "        return next_state, reward, done\n",
    "\n",
    "    def reset(self):  # 回归初始状态,坐标轴原点在左上角\n",
    "        self.x = 0\n",
    "        self.y = self.nrow - 1\n",
    "        return self.y * self.ncol + self.x"
   ]
  },
  {
   "cell_type": "code",
   "execution_count": 4,
   "metadata": {},
   "outputs": [],
   "source": [
    "class Sarsa:\n",
    "\n",
    "    def __init__(self, col, row, learning_rate, gamma, epsilon, action_num = 4):\n",
    "        self.Q_table = np.zeros([col*row, action_num])\n",
    "        self.action_num = action_num\n",
    "        self.learning_rate = learning_rate\n",
    "        self.gamma = gamma\n",
    "        self.epsilon = epsilon\n",
    "\n",
    "    def take_action(self, state):\n",
    "        if np.random.random() < self.epsilon:\n",
    "            action = np.random.randint(self.action_num)\n",
    "        else:\n",
    "            action = np.argmax(self.Q_table[state])\n",
    "        return action\n",
    "    \n",
    "    def get_policy(self, state):\n",
    "        Q_max = np.argmax(self.Q_table[state])\n",
    "        a = [0 for i in range(self.action_num)]\n",
    "        for i in range(self.action_num):\n",
    "            if self.Q_table[state, i] == Q_max:\n",
    "                a[i] = 1\n",
    "        return a\n",
    "    \n",
    "    def sarsa_update(self, s0, a0, r, s1, a1):\n",
    "        td_error = r + self.gamma * self.Q_table[s1, a1] - self.Q_table[s0, a0]\n",
    "        self.Q_table[s0, a0] += self.learning_rate * td_error\n",
    "\n"
   ]
  },
  {
   "cell_type": "code",
   "execution_count": 20,
   "metadata": {},
   "outputs": [],
   "source": [
    "col = 12\n",
    "row = 4\n",
    "env = CliffWalkingEnv(col, row)\n",
    "np.random.seed(0)\n",
    "epsilon = 0.1\n",
    "learning_rate = 0.1\n",
    "gamma = 0.9\n",
    "agent = Sarsa(col, row, learning_rate, gamma, epsilon)\n",
    "\n",
    "num_episodes = 500"
   ]
  },
  {
   "cell_type": "code",
   "execution_count": 22,
   "metadata": {},
   "outputs": [
    {
     "name": "stderr",
     "output_type": "stream",
     "text": [
      "Iteration 0:   2%|▏         | 1/50 [00:00<00:00, 100.23it/s, episode=50, return=-18.200]\n",
      "Iteration 1:   2%|▏         | 1/50 [00:00<00:00, 83.53it/s, episode=100, return=-26.100]\n",
      "Iteration 2:   2%|▏         | 1/50 [00:00<00:00, 83.53it/s, episode=150, return=-16.000]\n",
      "Iteration 3:   2%|▏         | 1/50 [00:00<00:00, 73.96it/s, episode=200, return=-17.100]\n",
      "Iteration 4:   2%|▏         | 1/50 [00:00<00:00, 66.86it/s, episode=250, return=-15.900]\n",
      "Iteration 5:   2%|▏         | 1/50 [00:00<00:00, 77.16it/s, episode=300, return=-25.000]\n",
      "Iteration 6:   2%|▏         | 1/50 [00:00<00:00, 86.41it/s, episode=350, return=-18.500]\n",
      "Iteration 7:   2%|▏         | 1/50 [00:00<00:00, 58.97it/s, episode=400, return=-27.100]\n",
      "Iteration 8:   2%|▏         | 1/50 [00:00<00:00, 77.15it/s, episode=450, return=-28.200]\n",
      "Iteration 9:   2%|▏         | 1/50 [00:00<00:00, 66.86it/s, episode=500, return=-19.200]\n"
     ]
    }
   ],
   "source": [
    "return_list = []\n",
    "for i in range(10):\n",
    "    with tqdm(total=int(num_episodes/10), desc=\"Iteration %d\" %i) as pbar:\n",
    "        for i_episode in range(int(num_episodes/10)):\n",
    "            episode_return = 0\n",
    "            state = env.reset()\n",
    "            action = agent.take_action(state)\n",
    "            done = False\n",
    "            while not done:\n",
    "                next_state, reward, done = env.step(action)\n",
    "                next_action = agent.take_action(next_state)\n",
    "                episode_return += reward\n",
    "                agent.sarsa_update(state, action, reward, next_state, next_action)\n",
    "                state = next_state\n",
    "                action = next_action\n",
    "            return_list.append(episode_return)\n",
    "        if (i_episode + 1) % 10 == 0:\n",
    "            pbar.set_postfix({\n",
    "                    'episode':\n",
    "                    '%d' % (num_episodes / 10 * i + i_episode + 1),\n",
    "                    'return':\n",
    "                    '%.3f' % np.mean(return_list[-10:])\n",
    "            })\n",
    "        pbar.update(1)\n"
   ]
  }
 ],
 "metadata": {
  "kernelspec": {
   "display_name": "Python 3.9.12 ('base')",
   "language": "python",
   "name": "python3"
  },
  "language_info": {
   "codemirror_mode": {
    "name": "ipython",
    "version": 3
   },
   "file_extension": ".py",
   "mimetype": "text/x-python",
   "name": "python",
   "nbconvert_exporter": "python",
   "pygments_lexer": "ipython3",
   "version": "3.9.12"
  },
  "orig_nbformat": 4,
  "vscode": {
   "interpreter": {
    "hash": "5179d32cf6ec497baf3f8a3ef987cc77c5d2dc691fdde20a56316522f61a7323"
   }
  }
 },
 "nbformat": 4,
 "nbformat_minor": 2
}
