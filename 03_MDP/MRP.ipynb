{
 "cells": [
  {
   "cell_type": "code",
   "execution_count": 8,
   "metadata": {},
   "outputs": [
    {
     "name": "stdout",
     "output_type": "stream",
     "text": [
      "2.5\n"
     ]
    }
   ],
   "source": [
    "# 求一个序列的总 reward\n",
    "\n",
    "import numpy as np\n",
    "\n",
    "np.random.seed(0)\n",
    "\n",
    "P = [\n",
    "    [0.9, 0.1, 0.0, 0.0, 0.0, 0.0],\n",
    "    [0.5, 0.0, 0.5, 0.0, 0.0, 0.0],\n",
    "    [0.0, 0.0, 0.0, 0.6, 0.0, 0.4],\n",
    "    [0.0, 0.0, 0.0, 0.0, 0.3, 0.7],\n",
    "    [0.0, 0.2, 0.3, 0.5, 0.0, 0.0],\n",
    "    [0.0, 0.0, 0.0, 0.0, 0.0, 1.0],\n",
    "]\n",
    "\n",
    "P = np.array(P)\n",
    "\n",
    "rewards = [-1, -2, -2, 10, 1, 0] \n",
    "gamma = 0.5\n",
    "\n",
    "def compute_reward(chain, gamma):\n",
    "    total_reward = 0\n",
    "    if chain == []:\n",
    "        return None\n",
    "    \n",
    "    for i in range(0, len(chain)-1):\n",
    "        total_reward += total_reward*gamma + rewards[chain[i]]\n",
    "    \n",
    "    return total_reward\n",
    "\n",
    "\n",
    "chain = [1, 2, 3, 6]\n",
    "print(compute_reward(chain, gamma))\n",
    "\n",
    "\n"
   ]
  },
  {
   "cell_type": "markdown",
   "metadata": {},
   "source": [
    "$$\n",
    "\\begin{aligned}\n",
    "V(s) &= \\mathbb E(G_{t}|S_{t} = s) \\\\\n",
    "     &=  R(s) + \\gamma \\sum_{s'} p(s'|s) V(s')\n",
    "\\end{aligned}\n",
    "$$"
   ]
  },
  {
   "cell_type": "code",
   "execution_count": 9,
   "metadata": {},
   "outputs": [
    {
     "name": "stdout",
     "output_type": "stream",
     "text": [
      "[[-2.01950168]\n",
      " [-2.21451846]\n",
      " [ 1.16142785]\n",
      " [10.53809283]\n",
      " [ 3.58728554]\n",
      " [ 0.        ]]\n"
     ]
    }
   ],
   "source": [
    "# 求一个 MRP 中的 Bellman Equation 的解析解\n",
    "\n",
    "def compute_MRP(P, rewards, gamma):\n",
    "    state_num = len(rewards)\n",
    "    rewards = np.array(rewards).reshape((-1, 1))            # column vector\n",
    "    matrix = np.linalg.inv(np.eye(state_num, state_num) - gamma * P)\n",
    "    value = np.dot(matrix, rewards)\n",
    "    return value\n",
    "\n",
    "\n",
    "print(compute_MRP(P, rewards, gamma))\n"
   ]
  },
  {
   "cell_type": "markdown",
   "metadata": {},
   "source": [
    "$$\n",
    "\\begin {aligned}\n",
    "V &= R + \\gamma PV \\\\\n",
    "(I-\\gamma P) V &= R \\\\\n",
    "V & = (I-\\gamma P) ^{-1} R\n",
    "\n",
    "\n",
    "\n",
    "\n",
    "\\end {aligned}\n",
    "$$"
   ]
  }
 ],
 "metadata": {
  "kernelspec": {
   "display_name": "Python 3.8.13 ('RLlab')",
   "language": "python",
   "name": "python3"
  },
  "language_info": {
   "codemirror_mode": {
    "name": "ipython",
    "version": 3
   },
   "file_extension": ".py",
   "mimetype": "text/x-python",
   "name": "python",
   "nbconvert_exporter": "python",
   "pygments_lexer": "ipython3",
   "version": "3.8.13"
  },
  "orig_nbformat": 4,
  "vscode": {
   "interpreter": {
    "hash": "38d6941677519051cdd29ca2e142688905d4d903c4cc48e23749f6348f344da9"
   }
  }
 },
 "nbformat": 4,
 "nbformat_minor": 2
}
